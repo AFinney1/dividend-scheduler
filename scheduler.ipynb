{
 "cells": [
  {
   "cell_type": "code",
   "execution_count": 21,
   "metadata": {},
   "outputs": [],
   "source": [
    "import pandas as pd\n",
    "import numpy as np\n",
    "import plotly \n",
    "import yfinance as yf\n",
    "\n",
    "from datetime import datetime"
   ]
  },
  {
   "cell_type": "code",
   "execution_count": 22,
   "metadata": {},
   "outputs": [
    {
     "name": "stdout",
     "output_type": "stream",
     "text": [
      "AAPL does not meet desired monthly dividend income with an average monthly dividend of 0.02\n",
      "MSFT does not meet desired monthly dividend income with an average monthly dividend of 0.10\n",
      "JNJ does not meet desired monthly dividend income with an average monthly dividend of 0.08\n",
      "PG does not meet desired monthly dividend income with an average monthly dividend of 0.07\n",
      "VZ does not meet desired monthly dividend income with an average monthly dividend of 0.13\n"
     ]
    }
   ],
   "source": [
    "import yfinance as yf\n",
    "\n",
    "# Define a list of stocks you are interested in\n",
    "stocks = [\"AAPL\", \"MSFT\", \"JNJ\", \"PG\", \"VZ\"]\n",
    "\n",
    "# Define desired monthly dividend income\n",
    "monthly_income = 1000\n",
    "\n",
    "# Loop through each stock and retrieve its dividend data\n",
    "for stock in stocks:\n",
    "    ticker = yf.Ticker(stock)\n",
    "    dividends = ticker.dividends\n",
    "\n",
    "    # Calculate the average monthly dividend income for the stock\n",
    "    avg_monthly_dividend = dividends.resample(\"M\").sum().mean()\n",
    "\n",
    "    # Determine if the stock meets your desired monthly income\n",
    "    if avg_monthly_dividend >= monthly_income:\n",
    "        print(f\"{stock} meets desired monthly dividend income with an average monthly dividend of {avg_monthly_dividend:.2f}\")\n",
    "    else:\n",
    "        print(f\"{stock} does not meet desired monthly dividend income with an average monthly dividend of {avg_monthly_dividend:.2f}\")\n"
   ]
  },
  {
   "cell_type": "code",
   "execution_count": 25,
   "metadata": {},
   "outputs": [
    {
     "name": "stdout",
     "output_type": "stream",
     "text": [
      "yfinance.Ticker object <MMM> does not meet desired monthly dividend income with an average monthly dividend of 0.12\n"
     ]
    }
   ],
   "source": [
    "#p500_tickers = yf.tickers.Tickers(\"SP500\").tickers\n",
    "sp500_tickers = pd.read_html('https://en.wikipedia.org/wiki/List_of_S%26P_500_companies')[0]['Symbol'].tolist()\n",
    "\n",
    "# Define desired monthly dividend income\n",
    "# Loop over each ticker and analyze its dividend \n",
    "for ticker in sp500_tickers:\n",
    "    ticker = yf.Ticker(ticker)\n",
    "    dividends = ticker.dividends\n",
    "\n",
    "    # Calculate average monthly dividend income \n",
    "    avg_monthly_dividend = dividends.resample(\"M\").sum().mean()\n",
    "\n",
    "    # Determine if stock meets your income goal \n",
    "    if avg_monthly_dividend >= monthly_income:\n",
    "        print(f\"{ticker} meets desired monthly dividend income with an average monthly dividend of {avg_monthly_dividend:.2f}\")\n",
    "    else:\n",
    "        print(f\"{ticker} does not meet desired monthly dividend income with an average monthly dividend of {avg_monthly_dividend:.2f}\")\n",
    "    break\n"
   ]
  },
  {
   "cell_type": "code",
   "execution_count": 34,
   "metadata": {},
   "outputs": [
    {
     "name": "stdout",
     "output_type": "stream",
     "text": [
      "                           Dividends\n",
      "Date                                \n",
      "1962-02-19 00:00:00-05:00   0.012500\n",
      "1962-08-21 00:00:00-04:00   0.012500\n",
      "1962-11-19 00:00:00-05:00   0.012500\n",
      "1963-02-18 00:00:00-05:00   0.014063\n",
      "1963-05-21 00:00:00-04:00   0.014063\n",
      "DatetimeIndex(['1962-02-19 00:00:00-05:00', '1962-08-21 00:00:00-04:00',\n",
      "               '1962-11-19 00:00:00-05:00', '1963-02-18 00:00:00-05:00',\n",
      "               '1963-05-21 00:00:00-04:00', '1963-08-20 00:00:00-04:00',\n",
      "               '1963-11-18 00:00:00-05:00', '1964-02-17 00:00:00-05:00',\n",
      "               '1964-05-19 00:00:00-04:00', '1964-08-18 00:00:00-04:00',\n",
      "               ...\n",
      "               '2020-11-19 00:00:00-05:00', '2021-02-11 00:00:00-05:00',\n",
      "               '2021-05-20 00:00:00-04:00', '2021-08-20 00:00:00-04:00',\n",
      "               '2021-11-18 00:00:00-05:00', '2022-02-17 00:00:00-05:00',\n",
      "               '2022-05-19 00:00:00-04:00', '2022-08-19 00:00:00-04:00',\n",
      "               '2022-11-17 00:00:00-05:00', '2023-02-16 00:00:00-05:00'],\n",
      "              dtype='datetime64[ns, America/New_York]', name='Date', length=243, freq=None)\n"
     ]
    },
    {
     "ename": "NameError",
     "evalue": "name 'calendar' is not defined",
     "output_type": "error",
     "traceback": [
      "\u001b[0;31m---------------------------------------------------------------------------\u001b[0m",
      "\u001b[0;31mNameError\u001b[0m                                 Traceback (most recent call last)",
      "Cell \u001b[0;32mIn[34], line 14\u001b[0m\n\u001b[1;32m      6\u001b[0m \u001b[39mprint\u001b[39m(ticker_indices)\n\u001b[1;32m      7\u001b[0m \u001b[39mfor\u001b[39;00m month \u001b[39min\u001b[39;00m \u001b[39mrange\u001b[39m(\u001b[39m1\u001b[39m, \u001b[39m13\u001b[39m):\n\u001b[1;32m      8\u001b[0m     \u001b[39m#print(month)\u001b[39;00m\n\u001b[1;32m      9\u001b[0m     \u001b[39m#print(ticker.dividends.index[month])\u001b[39;00m\n\u001b[1;32m     10\u001b[0m    \u001b[39m# dividends = ticker.dividends.loc[f\"{month}-01\":f\"{month}-31\"]\u001b[39;00m\n\u001b[1;32m     11\u001b[0m     \u001b[39m#Get dividends for each month of the year\u001b[39;00m\n\u001b[0;32m---> 14\u001b[0m     \u001b[39mprint\u001b[39m(\u001b[39mf\u001b[39m\u001b[39m\"\u001b[39m\u001b[39mDividends paid for \u001b[39m\u001b[39m{\u001b[39;00mticker\u001b[39m}\u001b[39;00m\u001b[39m in \u001b[39m\u001b[39m{\u001b[39;00mcalendar\u001b[39m.\u001b[39mmonth_name[month]\u001b[39m}\u001b[39;00m\u001b[39m:\u001b[39m\u001b[39m\"\u001b[39m)\n\u001b[1;32m     15\u001b[0m     \u001b[39mfor\u001b[39;00m date, dividend \u001b[39min\u001b[39;00m dividends\u001b[39m.\u001b[39miterrows():\n\u001b[1;32m     16\u001b[0m         \u001b[39mprint\u001b[39m(\u001b[39mf\u001b[39m\u001b[39m\"\u001b[39m\u001b[39m{\u001b[39;00mdate\u001b[39m}\u001b[39;00m\u001b[39m: \u001b[39m\u001b[39m{\u001b[39;00mdividend\u001b[39m}\u001b[39;00m\u001b[39m%\u001b[39m\u001b[39m\"\u001b[39m)\n",
      "\u001b[0;31mNameError\u001b[0m: name 'calendar' is not defined"
     ]
    }
   ],
   "source": [
    "for ticker in sp500_tickers:\n",
    "    ticker = yf.Ticker(ticker)\n",
    "    ticker_indices = ticker.dividends.index\n",
    "    ti = pd.DataFrame([ticker.dividends]).T\n",
    "    print(ti.head())\n",
    "    print(ticker_indices)\n",
    "    # for month in range(1, 13):\n",
    "        #print(month)\n",
    "        #print(ticker.dividends.index[month])\n",
    "       # dividends = ticker.dividends.loc[f\"{month}-01\":f\"{month}-31\"]\n",
    "        #Get dividends for each month of the year\n",
    "\n",
    "\n",
    "        # print(f\"Dividends paid for {ticker} in {calendar.month_name[month]}:\")\n",
    "        # for date, dividend in dividends.iterrows():\n",
    "        #     print(f\"{date}: {dividend}%\")\n"
   ]
  }
 ],
 "metadata": {
  "kernelspec": {
   "display_name": "trader_env",
   "language": "python",
   "name": "python3"
  },
  "language_info": {
   "codemirror_mode": {
    "name": "ipython",
    "version": 3
   },
   "file_extension": ".py",
   "mimetype": "text/x-python",
   "name": "python",
   "nbconvert_exporter": "python",
   "pygments_lexer": "ipython3",
   "version": "3.10.8"
  },
  "orig_nbformat": 4
 },
 "nbformat": 4,
 "nbformat_minor": 2
}
