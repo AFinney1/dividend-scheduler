{
 "cells": [
  {
   "cell_type": "markdown",
   "metadata": {},
   "source": [
    "# Given an initial investment amount, this code can be used to determine the combination of stocks that will yield the highest return based on dividend yield history."
   ]
  },
  {
   "cell_type": "code",
   "execution_count": 29,
   "metadata": {},
   "outputs": [],
   "source": [
    "import pandas as pd\n",
    "import numpy as np\n",
    "import plotly \n",
    "import yfinance as yf\n",
    "import heapq\n",
    "from datetime import datetime"
   ]
  },
  {
   "cell_type": "code",
   "execution_count": 31,
   "metadata": {},
   "outputs": [
    {
     "name": "stdout",
     "output_type": "stream",
     "text": [
      "yfinance.Ticker object <MMM> does not meet desired monthly dividend income with an average monthly dividend of 0.12\n"
     ]
    }
   ],
   "source": [
    "\n",
    "sp500_tickers = pd.read_html('https://en.wikipedia.org/wiki/List_of_S%26P_500_companies')[0]['Symbol'].tolist()\n",
    "\n",
    "# Define desired monthly dividend income\n",
    "# Loop over each ticker and analyze its dividend \n",
    "for ticker in sp500_tickers:\n",
    "    ticker = yf.Ticker(ticker)\n",
    "    dividends = ticker.dividends\n",
    "\n",
    "    # Calculate average monthly dividend income \n",
    "    avg_monthly_dividend = dividends.resample(\"M\").sum().mean()\n",
    "    monthly_income = 1000\n",
    "    # Determine if stock meets your income goal \n",
    "    if avg_monthly_dividend >= monthly_income:\n",
    "        print(f\"{ticker} meets desired monthly dividend income with an average monthly dividend of {avg_monthly_dividend:.2f}\")\n",
    "    else:\n",
    "        print(f\"{ticker} does not meet desired monthly dividend income with an average monthly dividend of {avg_monthly_dividend:.2f}\")\n",
    "    break\n"
   ]
  },
  {
   "cell_type": "code",
   "execution_count": 36,
   "metadata": {},
   "outputs": [
    {
     "name": "stdout",
     "output_type": "stream",
     "text": [
      "Investment allocations:\n",
      "PXD: $1460.09\n",
      "DVN: $1141.99\n",
      "LNC: $999.39\n",
      "MO: $996.95\n",
      "CTRA: $977.45\n",
      "FANG: $953.08\n",
      "BXP: $914.08\n",
      "NWL: $894.58\n",
      "VZ: $855.58\n",
      "KEY: $806.83\n",
      "\n",
      "Total dividends for the year: $846.04\n"
     ]
    }
   ],
   "source": [
    "import yfinance as yf\n",
    "\n",
    "def get_top_dividend_stocks(investment_amount, n_stocks=10):\n",
    "    #tickers = ['AAPL', 'MSFT', 'GOOGL', 'AMZN', 'T', 'VZ', 'IBM', 'XOM', 'JNJ', 'PFE']\n",
    "    tickers = sp500_tickers\n",
    "    dividend_data = []\n",
    "\n",
    "    for ticker in tickers:\n",
    "        stock_info = yf.Ticker(ticker)\n",
    "        div_yield = stock_info.info.get('dividendYield', 0)\n",
    "        dividend_data.append((ticker, div_yield))\n",
    "\n",
    "    top_dividend_stocks = heapq.nlargest(n_stocks, dividend_data, key=lambda x: x[1])\n",
    "\n",
    "    total_dividend_yield = sum([stock[1] for stock in top_dividend_stocks])\n",
    "    allocations = [(stock[0], stock[1] / total_dividend_yield * investment_amount) for stock in top_dividend_stocks]\n",
    "\n",
    "    total_dividends = 0\n",
    "    for stock, allocation in allocations:\n",
    "        stock_info = yf.Ticker(stock)\n",
    "        dividend_yield = stock_info.info.get('dividendYield', 0)\n",
    "        total_dividends += allocation * dividend_yield\n",
    "\n",
    "    return allocations, total_dividends\n",
    "\n",
    "investment_amount = 10000  # Invest $10,000\n",
    "top_dividend_stocks, total_dividends = get_top_dividend_stocks(investment_amount)\n",
    "\n",
    "print(\"Investment allocations:\")\n",
    "for stock, allocation in top_dividend_stocks:\n",
    "    print(f\"{stock}: ${allocation:.2f}\")\n",
    "\n",
    "print(f\"\\nTotal dividends for the year: ${total_dividends:.2f}\")\n"
   ]
  }
 ],
 "metadata": {
  "kernelspec": {
   "display_name": "trader_env",
   "language": "python",
   "name": "python3"
  },
  "language_info": {
   "codemirror_mode": {
    "name": "ipython",
    "version": 3
   },
   "file_extension": ".py",
   "mimetype": "text/x-python",
   "name": "python",
   "nbconvert_exporter": "python",
   "pygments_lexer": "ipython3",
   "version": "3.9.12"
  },
  "orig_nbformat": 4
 },
 "nbformat": 4,
 "nbformat_minor": 2
}
